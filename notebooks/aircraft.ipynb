{
 "cells": [
  {
   "cell_type": "code",
   "execution_count": 1,
   "metadata": {},
   "outputs": [],
   "source": [
    "import pandas as pd\n",
    "import numpy as np\n",
    "\n",
    "pd.set_option('display.max_columns', None)"
   ]
  },
  {
   "cell_type": "code",
   "execution_count": 112,
   "metadata": {},
   "outputs": [],
   "source": [
    "df = pd.read_csv('../data/raw/aircraft_accidents.csv')"
   ]
  },
  {
   "cell_type": "code",
   "execution_count": 113,
   "metadata": {},
   "outputs": [
    {
     "data": {
      "text/plain": [
       "URL                             0.000000\n",
       "aircraft_flight_hours          83.638114\n",
       "aircraft_type                   0.000000\n",
       "captain_total_flying_hours     80.284073\n",
       "captain_total_hours_on_type    83.244378\n",
       "city                            0.029166\n",
       "construction_number            20.272990\n",
       "copilot_total_flying_hours     93.644822\n",
       "copilot_total_hours_on_type    94.344795\n",
       "country                         0.005833\n",
       "crash_causes                   44.279173\n",
       "crash_circumstances             0.078747\n",
       "crew_fatalities                 0.002917\n",
       "crew_on_board                   0.067081\n",
       "date_time                       0.000000\n",
       "flight_number                  91.614898\n",
       "flight_phase                    1.758684\n",
       "flight_type                     0.169160\n",
       "operator                        0.000000\n",
       "other_fatalities                0.043748\n",
       "pax_fatalities                  0.011666\n",
       "pax_on_board                    0.145828\n",
       "photo_url                      69.463645\n",
       "region                          0.005833\n",
       "registration                    3.202380\n",
       "schedule                       28.955581\n",
       "site_type                       1.070377\n",
       "survivors                       3.689445\n",
       "total_fatalities                0.000000\n",
       "year_of_manufacture            25.047394\n",
       "zone                            0.034999\n",
       "dtype: float64"
      ]
     },
     "execution_count": 113,
     "metadata": {},
     "output_type": "execute_result"
    }
   ],
   "source": [
    "df.isna().sum() / df.shape[0] * 100"
   ]
  },
  {
   "cell_type": "code",
   "execution_count": 114,
   "metadata": {},
   "outputs": [
    {
     "data": {
      "text/plain": [
       "['aircraft_flight_hours',\n",
       " 'captain_total_flying_hours',\n",
       " 'captain_total_hours_on_type',\n",
       " 'copilot_total_flying_hours',\n",
       " 'copilot_total_hours_on_type',\n",
       " 'flight_number']"
      ]
     },
     "execution_count": 114,
     "metadata": {},
     "output_type": "execute_result"
    }
   ],
   "source": [
    "df_na = df.isna().sum() / df.shape[0] * 100\n",
    "drop_cols = (df_na).loc[df_na > 70].index\n",
    "drop_cols = drop_cols.tolist()\n",
    "drop_cols"
   ]
  },
  {
   "cell_type": "code",
   "execution_count": 119,
   "metadata": {},
   "outputs": [
    {
     "data": {
      "text/plain": [
       "city                   0.029166\n",
       "country                0.005833\n",
       "crash_circumstances    0.078747\n",
       "crew_fatalities        0.002917\n",
       "crew_on_board          0.067081\n",
       "flight_phase           1.758684\n",
       "flight_type            0.169160\n",
       "other_fatalities       0.043748\n",
       "pax_fatalities         0.011666\n",
       "pax_on_board           0.145828\n",
       "region                 0.005833\n",
       "registration           3.202380\n",
       "site_type              1.070377\n",
       "survivors              3.689445\n",
       "zone                   0.034999\n",
       "dtype: float64"
      ]
     },
     "execution_count": 119,
     "metadata": {},
     "output_type": "execute_result"
    }
   ],
   "source": [
    "(df_na).loc[(df_na < 10) & (df_na > 0)]"
   ]
  },
  {
   "cell_type": "code",
   "execution_count": 103,
   "metadata": {},
   "outputs": [],
   "source": [
    "df.drop(columns=drop_cols, inplace=True)"
   ]
  },
  {
   "cell_type": "code",
   "execution_count": 104,
   "metadata": {},
   "outputs": [
    {
     "data": {
      "text/html": [
       "<div>\n",
       "<style scoped>\n",
       "    .dataframe tbody tr th:only-of-type {\n",
       "        vertical-align: middle;\n",
       "    }\n",
       "\n",
       "    .dataframe tbody tr th {\n",
       "        vertical-align: top;\n",
       "    }\n",
       "\n",
       "    .dataframe thead th {\n",
       "        text-align: right;\n",
       "    }\n",
       "</style>\n",
       "<table border=\"1\" class=\"dataframe\">\n",
       "  <thead>\n",
       "    <tr style=\"text-align: right;\">\n",
       "      <th></th>\n",
       "      <th>URL</th>\n",
       "      <th>aircraft_type</th>\n",
       "      <th>city</th>\n",
       "      <th>construction_number</th>\n",
       "      <th>country</th>\n",
       "      <th>crash_causes</th>\n",
       "      <th>crash_circumstances</th>\n",
       "      <th>crew_fatalities</th>\n",
       "      <th>crew_on_board</th>\n",
       "      <th>date_time</th>\n",
       "      <th>flight_phase</th>\n",
       "      <th>flight_type</th>\n",
       "      <th>operator</th>\n",
       "      <th>other_fatalities</th>\n",
       "      <th>pax_fatalities</th>\n",
       "      <th>pax_on_board</th>\n",
       "      <th>photo_url</th>\n",
       "      <th>region</th>\n",
       "      <th>registration</th>\n",
       "      <th>schedule</th>\n",
       "      <th>site_type</th>\n",
       "      <th>survivors</th>\n",
       "      <th>total_fatalities</th>\n",
       "      <th>year_of_manufacture</th>\n",
       "      <th>zone</th>\n",
       "      <th>crash_date</th>\n",
       "      <th>crash_time</th>\n",
       "      <th>carsh_year</th>\n",
       "      <th>carsh_month</th>\n",
       "      <th>carsh_month_num</th>\n",
       "      <th>crash_weekday</th>\n",
       "      <th>crash_weeknum</th>\n",
       "      <th>crash_day/night</th>\n",
       "    </tr>\n",
       "  </thead>\n",
       "  <tbody>\n",
       "    <tr>\n",
       "      <th>0</th>\n",
       "      <td>https://www.baaa-acro.com/crash/crash-beechcra...</td>\n",
       "      <td>Beechcraft 90 King Air</td>\n",
       "      <td>Yarumal</td>\n",
       "      <td>LJ-934</td>\n",
       "      <td>Colombia</td>\n",
       "      <td>NaN</td>\n",
       "      <td>The twin engine airplane departed Montería-Los...</td>\n",
       "      <td>2.0</td>\n",
       "      <td>2.0</td>\n",
       "      <td>Mar 21, 2024 at 0720 LT</td>\n",
       "      <td>Flight</td>\n",
       "      <td>Ambulance</td>\n",
       "      <td>Sky Ambulance (52026)</td>\n",
       "      <td>0.0</td>\n",
       "      <td>2.0</td>\n",
       "      <td>2.0</td>\n",
       "      <td>https://www.baaa-acro.com/sites/default/files/...</td>\n",
       "      <td>South America</td>\n",
       "      <td>HK-4684</td>\n",
       "      <td>Montería - Medellín</td>\n",
       "      <td>Plain, Valley</td>\n",
       "      <td>No</td>\n",
       "      <td>4</td>\n",
       "      <td>1981.0</td>\n",
       "      <td>Antioquia</td>\n",
       "      <td>2024-03-21</td>\n",
       "      <td>07:20</td>\n",
       "      <td>2024</td>\n",
       "      <td>Mar</td>\n",
       "      <td>3</td>\n",
       "      <td>Thu</td>\n",
       "      <td>3</td>\n",
       "      <td>day</td>\n",
       "    </tr>\n",
       "    <tr>\n",
       "      <th>1</th>\n",
       "      <td>https://www.baaa-acro.com/crash/crash-socata-t...</td>\n",
       "      <td>Socata TBM-960</td>\n",
       "      <td>Truckee</td>\n",
       "      <td>1441</td>\n",
       "      <td>United States of America</td>\n",
       "      <td>NaN</td>\n",
       "      <td>On final approach to Truckee-Tahoe Airport run...</td>\n",
       "      <td>1.0</td>\n",
       "      <td>1.0</td>\n",
       "      <td>Mar 30, 2024 at 1838 LT</td>\n",
       "      <td>Landing (descent or approach)</td>\n",
       "      <td>Private</td>\n",
       "      <td>Avram Enterprises (52029)</td>\n",
       "      <td>0.0</td>\n",
       "      <td>1.0</td>\n",
       "      <td>1.0</td>\n",
       "      <td>https://www.baaa-acro.com/sites/default/files/...</td>\n",
       "      <td>North America</td>\n",
       "      <td>N960LP</td>\n",
       "      <td>Denver - Truckee</td>\n",
       "      <td>Airport (less than 10 km from airport)</td>\n",
       "      <td>No</td>\n",
       "      <td>2</td>\n",
       "      <td>2022.0</td>\n",
       "      <td>California</td>\n",
       "      <td>2024-03-30</td>\n",
       "      <td>18:38</td>\n",
       "      <td>2024</td>\n",
       "      <td>Mar</td>\n",
       "      <td>3</td>\n",
       "      <td>Sat</td>\n",
       "      <td>5</td>\n",
       "      <td>day</td>\n",
       "    </tr>\n",
       "    <tr>\n",
       "      <th>2</th>\n",
       "      <td>https://www.baaa-acro.com/crash/crash-beechcra...</td>\n",
       "      <td>Beechcraft 90 King Air</td>\n",
       "      <td>Palenque</td>\n",
       "      <td>LW-43</td>\n",
       "      <td>Mexico</td>\n",
       "      <td>NaN</td>\n",
       "      <td>Following an uneventful flight from Tuxtla Gut...</td>\n",
       "      <td>2.0</td>\n",
       "      <td>2.0</td>\n",
       "      <td>Mar 28, 2024 at 1322 LT</td>\n",
       "      <td>Landing (descent or approach)</td>\n",
       "      <td>Charter/Taxi (Non Scheduled Revenue Flight)</td>\n",
       "      <td>Comercializadora Masvi (52027)</td>\n",
       "      <td>0.0</td>\n",
       "      <td>7.0</td>\n",
       "      <td>7.0</td>\n",
       "      <td>https://www.baaa-acro.com/sites/default/files/...</td>\n",
       "      <td>Central America</td>\n",
       "      <td>XB-SKA</td>\n",
       "      <td>Tuxtla Gutiérrez - Palenque</td>\n",
       "      <td>Mountains</td>\n",
       "      <td>No</td>\n",
       "      <td>9</td>\n",
       "      <td>1973.0</td>\n",
       "      <td>Chiapas</td>\n",
       "      <td>2024-03-28</td>\n",
       "      <td>13:22</td>\n",
       "      <td>2024</td>\n",
       "      <td>Mar</td>\n",
       "      <td>3</td>\n",
       "      <td>Thu</td>\n",
       "      <td>3</td>\n",
       "      <td>day</td>\n",
       "    </tr>\n",
       "    <tr>\n",
       "      <th>3</th>\n",
       "      <td>https://www.baaa-acro.com/crash/crash-boeing-7...</td>\n",
       "      <td>Boeing 727-200</td>\n",
       "      <td>Malakal</td>\n",
       "      <td>21931/1531</td>\n",
       "      <td>South Sudan</td>\n",
       "      <td>NaN</td>\n",
       "      <td>Following a cargo flight from Juba, the airpla...</td>\n",
       "      <td>0.0</td>\n",
       "      <td>3.0</td>\n",
       "      <td>Mar 31, 2024</td>\n",
       "      <td>Landing (descent or approach)</td>\n",
       "      <td>Cargo</td>\n",
       "      <td>Safe Air Company (35954)</td>\n",
       "      <td>0.0</td>\n",
       "      <td>0.0</td>\n",
       "      <td>4.0</td>\n",
       "      <td>https://www.baaa-acro.com/sites/default/files/...</td>\n",
       "      <td>Africa</td>\n",
       "      <td>5Y-IRE</td>\n",
       "      <td>Juba - Malakal</td>\n",
       "      <td>Airport (less than 10 km from airport)</td>\n",
       "      <td>Yes</td>\n",
       "      <td>0</td>\n",
       "      <td>1979.0</td>\n",
       "      <td>Upper Nile (أعالي النيل)</td>\n",
       "      <td>2024-03-31</td>\n",
       "      <td>NaN</td>\n",
       "      <td>2024</td>\n",
       "      <td>Mar</td>\n",
       "      <td>3</td>\n",
       "      <td>Sun</td>\n",
       "      <td>6</td>\n",
       "      <td>night</td>\n",
       "    </tr>\n",
       "    <tr>\n",
       "      <th>4</th>\n",
       "      <td>https://www.baaa-acro.com/crash/crash-let-l-41...</td>\n",
       "      <td>Let L-410</td>\n",
       "      <td>Butembo</td>\n",
       "      <td>79 03 03</td>\n",
       "      <td>Democratic Republic of Congo</td>\n",
       "      <td>NaN</td>\n",
       "      <td>In unclear circumstances, the twin engine airp...</td>\n",
       "      <td>0.0</td>\n",
       "      <td>0.0</td>\n",
       "      <td>Mar 17, 2024</td>\n",
       "      <td>Landing (descent or approach)</td>\n",
       "      <td>Scheduled Revenue Flight</td>\n",
       "      <td>Cetraca Aviation Service (39289)</td>\n",
       "      <td>0.0</td>\n",
       "      <td>0.0</td>\n",
       "      <td>0.0</td>\n",
       "      <td>https://www.baaa-acro.com/sites/default/files/...</td>\n",
       "      <td>Africa</td>\n",
       "      <td>9S-GPB</td>\n",
       "      <td>Goma - Butembo</td>\n",
       "      <td>Airport (less than 10 km from airport)</td>\n",
       "      <td>Yes</td>\n",
       "      <td>0</td>\n",
       "      <td>1979.0</td>\n",
       "      <td>Nord-Kivu</td>\n",
       "      <td>2024-03-17</td>\n",
       "      <td>NaN</td>\n",
       "      <td>2024</td>\n",
       "      <td>Mar</td>\n",
       "      <td>3</td>\n",
       "      <td>Sun</td>\n",
       "      <td>6</td>\n",
       "      <td>night</td>\n",
       "    </tr>\n",
       "  </tbody>\n",
       "</table>\n",
       "</div>"
      ],
      "text/plain": [
       "                                                 URL           aircraft_type  \\\n",
       "0  https://www.baaa-acro.com/crash/crash-beechcra...  Beechcraft 90 King Air   \n",
       "1  https://www.baaa-acro.com/crash/crash-socata-t...          Socata TBM-960   \n",
       "2  https://www.baaa-acro.com/crash/crash-beechcra...  Beechcraft 90 King Air   \n",
       "3  https://www.baaa-acro.com/crash/crash-boeing-7...          Boeing 727-200   \n",
       "4  https://www.baaa-acro.com/crash/crash-let-l-41...               Let L-410   \n",
       "\n",
       "       city construction_number                       country crash_causes  \\\n",
       "0   Yarumal              LJ-934                      Colombia          NaN   \n",
       "1   Truckee                1441      United States of America          NaN   \n",
       "2  Palenque               LW-43                        Mexico          NaN   \n",
       "3   Malakal          21931/1531                   South Sudan          NaN   \n",
       "4   Butembo            79 03 03  Democratic Republic of Congo          NaN   \n",
       "\n",
       "                                 crash_circumstances  crew_fatalities  \\\n",
       "0  The twin engine airplane departed Montería-Los...              2.0   \n",
       "1  On final approach to Truckee-Tahoe Airport run...              1.0   \n",
       "2  Following an uneventful flight from Tuxtla Gut...              2.0   \n",
       "3  Following a cargo flight from Juba, the airpla...              0.0   \n",
       "4  In unclear circumstances, the twin engine airp...              0.0   \n",
       "\n",
       "   crew_on_board                date_time                   flight_phase  \\\n",
       "0            2.0  Mar 21, 2024 at 0720 LT                         Flight   \n",
       "1            1.0  Mar 30, 2024 at 1838 LT  Landing (descent or approach)   \n",
       "2            2.0  Mar 28, 2024 at 1322 LT  Landing (descent or approach)   \n",
       "3            3.0             Mar 31, 2024  Landing (descent or approach)   \n",
       "4            0.0             Mar 17, 2024  Landing (descent or approach)   \n",
       "\n",
       "                                   flight_type  \\\n",
       "0                                    Ambulance   \n",
       "1                                      Private   \n",
       "2  Charter/Taxi (Non Scheduled Revenue Flight)   \n",
       "3                                        Cargo   \n",
       "4                     Scheduled Revenue Flight   \n",
       "\n",
       "                           operator  other_fatalities  pax_fatalities  \\\n",
       "0             Sky Ambulance (52026)               0.0             2.0   \n",
       "1         Avram Enterprises (52029)               0.0             1.0   \n",
       "2    Comercializadora Masvi (52027)               0.0             7.0   \n",
       "3          Safe Air Company (35954)               0.0             0.0   \n",
       "4  Cetraca Aviation Service (39289)               0.0             0.0   \n",
       "\n",
       "   pax_on_board                                          photo_url  \\\n",
       "0           2.0  https://www.baaa-acro.com/sites/default/files/...   \n",
       "1           1.0  https://www.baaa-acro.com/sites/default/files/...   \n",
       "2           7.0  https://www.baaa-acro.com/sites/default/files/...   \n",
       "3           4.0  https://www.baaa-acro.com/sites/default/files/...   \n",
       "4           0.0  https://www.baaa-acro.com/sites/default/files/...   \n",
       "\n",
       "            region registration                     schedule  \\\n",
       "0    South America      HK-4684          Montería - Medellín   \n",
       "1    North America       N960LP             Denver - Truckee   \n",
       "2  Central America       XB-SKA  Tuxtla Gutiérrez - Palenque   \n",
       "3           Africa       5Y-IRE               Juba - Malakal   \n",
       "4           Africa       9S-GPB               Goma - Butembo   \n",
       "\n",
       "                                site_type survivors  total_fatalities  \\\n",
       "0                           Plain, Valley        No                 4   \n",
       "1  Airport (less than 10 km from airport)        No                 2   \n",
       "2                               Mountains        No                 9   \n",
       "3  Airport (less than 10 km from airport)       Yes                 0   \n",
       "4  Airport (less than 10 km from airport)       Yes                 0   \n",
       "\n",
       "   year_of_manufacture                      zone crash_date crash_time  \\\n",
       "0               1981.0                 Antioquia 2024-03-21      07:20   \n",
       "1               2022.0                California 2024-03-30      18:38   \n",
       "2               1973.0                   Chiapas 2024-03-28      13:22   \n",
       "3               1979.0  Upper Nile (أعالي النيل) 2024-03-31        NaN   \n",
       "4               1979.0                 Nord-Kivu 2024-03-17        NaN   \n",
       "\n",
       "   carsh_year carsh_month  carsh_month_num crash_weekday  crash_weeknum  \\\n",
       "0        2024         Mar                3           Thu              3   \n",
       "1        2024         Mar                3           Sat              5   \n",
       "2        2024         Mar                3           Thu              3   \n",
       "3        2024         Mar                3           Sun              6   \n",
       "4        2024         Mar                3           Sun              6   \n",
       "\n",
       "  crash_day/night  \n",
       "0             day  \n",
       "1             day  \n",
       "2             day  \n",
       "3           night  \n",
       "4           night  "
      ]
     },
     "execution_count": 104,
     "metadata": {},
     "output_type": "execute_result"
    }
   ],
   "source": [
    "df.head()"
   ]
  },
  {
   "cell_type": "code",
   "execution_count": 11,
   "metadata": {},
   "outputs": [
    {
     "name": "stdout",
     "output_type": "stream",
     "text": [
      "<class 'pandas.core.frame.DataFrame'>\n",
      "RangeIndex: 34287 entries, 0 to 34286\n",
      "Data columns (total 31 columns):\n",
      " #   Column                       Non-Null Count  Dtype  \n",
      "---  ------                       --------------  -----  \n",
      " 0   URL                          34287 non-null  object \n",
      " 1   aircraft_flight_hours        5610 non-null   float64\n",
      " 2   aircraft_type                34287 non-null  object \n",
      " 3   captain_total_flying_hours   6760 non-null   float64\n",
      " 4   captain_total_hours_on_type  5745 non-null   float64\n",
      " 5   city                         34277 non-null  object \n",
      " 6   construction_number          27336 non-null  object \n",
      " 7   copilot_total_flying_hours   2179 non-null   float64\n",
      " 8   copilot_total_hours_on_type  1939 non-null   float64\n",
      " 9   country                      34285 non-null  object \n",
      " 10  crash_causes                 19105 non-null  object \n",
      " 11  crash_circumstances          34260 non-null  object \n",
      " 12  crew_fatalities              34286 non-null  float64\n",
      " 13  crew_on_board                34264 non-null  float64\n",
      " 14  date_time                    34287 non-null  object \n",
      " 15  flight_number                2875 non-null   object \n",
      " 16  flight_phase                 33684 non-null  object \n",
      " 17  flight_type                  34229 non-null  object \n",
      " 18  operator                     34287 non-null  object \n",
      " 19  other_fatalities             34272 non-null  float64\n",
      " 20  pax_fatalities               34283 non-null  float64\n",
      " 21  pax_on_board                 34237 non-null  float64\n",
      " 22  photo_url                    10470 non-null  object \n",
      " 23  region                       34285 non-null  object \n",
      " 24  registration                 33189 non-null  object \n",
      " 25  schedule                     24359 non-null  object \n",
      " 26  site_type                    33920 non-null  object \n",
      " 27  survivors                    33022 non-null  object \n",
      " 28  total_fatalities             34287 non-null  int64  \n",
      " 29  year_of_manufacture          25699 non-null  float64\n",
      " 30  zone                         34275 non-null  object \n",
      "dtypes: float64(11), int64(1), object(19)\n",
      "memory usage: 8.1+ MB\n"
     ]
    }
   ],
   "source": [
    "df.info()"
   ]
  },
  {
   "cell_type": "code",
   "execution_count": 15,
   "metadata": {},
   "outputs": [
    {
     "data": {
      "text/plain": [
       "flight_type\n",
       "Scheduled Revenue Flight                       17.724736\n",
       "Military                                       16.249379\n",
       "Training                                       12.214789\n",
       "Bombing                                        10.713138\n",
       "Cargo                                           8.440212\n",
       "Private                                         7.257004\n",
       "Charter/Taxi (Non Scheduled Revenue Flight)     5.638494\n",
       "Survey / Patrol / Reconnaissance                3.602209\n",
       "Executive/Corporate/Business                    3.099711\n",
       "Positioning                                     1.969091\n",
       "Test                                            1.893132\n",
       "Postal (mail)                                   1.536709\n",
       "Spraying (Agricultural)                         1.472436\n",
       "Ferry                                           1.291303\n",
       "Supply                                          1.212422\n",
       "Ambulance                                       0.771276\n",
       "Government                                      0.730375\n",
       "Illegal (smuggling)                             0.674866\n",
       "Delivery                                        0.666102\n",
       "Skydiving / Paratroopers                        0.552163\n",
       "Demonstration                                   0.520027\n",
       "Fire fighting                                   0.444068\n",
       "Humanitarian                                    0.391481\n",
       "Aerial photography                              0.239563\n",
       "Geographical / Geophysical / Scientific         0.195740\n",
       "Refuelling                                      0.148996\n",
       "Meteorological / Weather                        0.122703\n",
       "Calibration                                     0.093488\n",
       "Topographic                                     0.090566\n",
       "Cinematography                                  0.035058\n",
       "Aerobatic                                       0.008764\n",
       "Name: proportion, dtype: float64"
      ]
     },
     "execution_count": 15,
     "metadata": {},
     "output_type": "execute_result"
    }
   ],
   "source": [
    "df['flight_type'].value_counts(normalize=True) * 100"
   ]
  },
  {
   "cell_type": "code",
   "execution_count": 8,
   "metadata": {},
   "outputs": [
    {
     "data": {
      "text/plain": [
       "'https://www.baaa-acro.com/crash/crash-de-havilland-dh4-weikert'"
      ]
     },
     "execution_count": 8,
     "metadata": {},
     "output_type": "execute_result"
    }
   ],
   "source": [
    "df['URL'].loc[df['photo_url'].isna()].iloc[100]"
   ]
  },
  {
   "cell_type": "code",
   "execution_count": 9,
   "metadata": {},
   "outputs": [
    {
     "data": {
      "text/plain": [
       "'U.S. Air Mail Service (35401)'"
      ]
     },
     "execution_count": 9,
     "metadata": {},
     "output_type": "execute_result"
    }
   ],
   "source": [
    "df['operator'].loc[df['photo_url'].isna()].iloc[100]"
   ]
  },
  {
   "cell_type": "code",
   "execution_count": 44,
   "metadata": {},
   "outputs": [
    {
     "data": {
      "text/plain": [
       "0                                         Sky Ambulance\n",
       "1                                     Avram Enterprises\n",
       "2                                Comercializadora Masvi\n",
       "3                                      Safe Air Company\n",
       "4                              Cetraca Aviation Service\n",
       "                              ...                      \n",
       "34282         Aeroflot - Russian International Airlines\n",
       "34283             Spanish Air Force - Ejército del Aire\n",
       "34284    Argentinian Air Force - Fuerza Aérea Argentina\n",
       "34285                                  Eastern Airlines\n",
       "34286         Aeroflot - Russian International Airlines\n",
       "Name: operator, Length: 34287, dtype: object"
      ]
     },
     "execution_count": 44,
     "metadata": {},
     "output_type": "execute_result"
    }
   ],
   "source": [
    "df['operator'].str.split().map(lambda x: ' '.join(x[:-1])).str.strip()"
   ]
  },
  {
   "cell_type": "code",
   "execution_count": 24,
   "metadata": {},
   "outputs": [
    {
     "data": {
      "text/plain": [
       "15        9763.0\n",
       "103       6054.0\n",
       "115      10492.0\n",
       "124       3600.0\n",
       "170      28731.0\n",
       "          ...   \n",
       "34268    19630.0\n",
       "34281     8612.0\n",
       "34282     4021.0\n",
       "34285    29941.0\n",
       "34286     4023.0\n",
       "Name: aircraft_flight_hours, Length: 5610, dtype: float64"
      ]
     },
     "execution_count": 24,
     "metadata": {},
     "output_type": "execute_result"
    }
   ],
   "source": [
    "df['aircraft_flight_hours'].loc[df['aircraft_flight_hours'].notna()]"
   ]
  },
  {
   "cell_type": "code",
   "execution_count": 29,
   "metadata": {},
   "outputs": [
    {
     "data": {
      "text/plain": [
       "3                     Boeing 727-200\n",
       "32                    Boeing 757-200\n",
       "188                   Boeing 737-300\n",
       "245      Boeing B-17 Flying Fortress\n",
       "349                   Boeing 737-800\n",
       "                    ...             \n",
       "34151    Boeing B-17 Flying Fortress\n",
       "34169      Boeing KC-97 Stratotanker\n",
       "34185     Boeing B-52 Stratofortress\n",
       "34224      Boeing KC-97 Stratotanker\n",
       "34246    Boeing B-17 Flying Fortress\n",
       "Name: aircraft_type, Length: 1337, dtype: object"
      ]
     },
     "execution_count": 29,
     "metadata": {},
     "output_type": "execute_result"
    }
   ],
   "source": [
    "df['aircraft_type'].loc[df['aircraft_type'].str.lower().str.contains('boeing')]"
   ]
  },
  {
   "cell_type": "code",
   "execution_count": 57,
   "metadata": {},
   "outputs": [
    {
     "data": {
      "text/plain": [
       "date_time\n",
       "LT    16555\n",
       "Name: count, dtype: int64"
      ]
     },
     "execution_count": 57,
     "metadata": {},
     "output_type": "execute_result"
    }
   ],
   "source": [
    "df['date_time'].str.split('at').map(lambda x: x[1] if len(x) == 2 else np.nan).str.strip().str.split().str[-1].value_counts()"
   ]
  },
  {
   "cell_type": "code",
   "execution_count": 95,
   "metadata": {},
   "outputs": [
    {
     "data": {
      "text/plain": [
       "0        07:20\n",
       "1        18:38\n",
       "2        13:22\n",
       "3          NaN\n",
       "4          NaN\n",
       "         ...  \n",
       "34282    12:07\n",
       "34283      NaN\n",
       "34284    23:55\n",
       "34285    03:43\n",
       "34286    06:45\n",
       "Name: crash_time, Length: 34287, dtype: object"
      ]
     },
     "execution_count": 95,
     "metadata": {},
     "output_type": "execute_result"
    }
   ],
   "source": [
    "df['crash_time'] = df['date_time'].str.split('at')\n",
    "df['crash_time'] = df['crash_time'].map(lambda x: x[1] if len(x) == 2 else np.nan)\n",
    "df['crash_time'] = df['crash_time'].str.strip().str.split()\n",
    "df['crash_time'] = pd.to_datetime(df['crash_time'].str[0], format='%H%S')\n",
    "df['crash_day/night'] = np.where(df['crash_time'].dt.hour.isin(range(7, 19)), 'day', 'night')\n",
    "df['crash_time'] = df['crash_time'].dt.strftime('%H:%S')\n",
    "df['crash_time']"
   ]
  },
  {
   "cell_type": "code",
   "execution_count": 96,
   "metadata": {},
   "outputs": [
    {
     "data": {
      "text/plain": [
       "0"
      ]
     },
     "execution_count": 96,
     "metadata": {},
     "output_type": "execute_result"
    }
   ],
   "source": [
    "df['crash_day/night'].isna().sum()"
   ]
  },
  {
   "cell_type": "code",
   "execution_count": 88,
   "metadata": {},
   "outputs": [
    {
     "data": {
      "text/plain": [
       "0        Thu\n",
       "1        Sat\n",
       "2        Thu\n",
       "3        Sun\n",
       "4        Sun\n",
       "        ... \n",
       "34282    Fri\n",
       "34283    Tue\n",
       "34284    Tue\n",
       "34285    Wed\n",
       "34286    Wed\n",
       "Name: crash_weekday, Length: 34287, dtype: object"
      ]
     },
     "execution_count": 88,
     "metadata": {},
     "output_type": "execute_result"
    }
   ],
   "source": [
    "df['crash_date'] = pd.to_datetime(df['date_time'].str.split('at').str[0].str.strip())\n",
    "df['carsh_year'] = df['crash_date'].dt.year\n",
    "df['carsh_month'] = df['crash_date'].dt.month_name().str[:3]\n",
    "df['carsh_month_num'] = df['crash_date'].dt.month\n",
    "df['crash_weeknum'] = df['crash_date'].dt.day_of_week\n",
    "df['crash_weekday'] = df['crash_date'].dt.day_name().str[:3]\n",
    "df['crash_weekday']"
   ]
  },
  {
   "cell_type": "code",
   "execution_count": 45,
   "metadata": {},
   "outputs": [
    {
     "data": {
      "text/plain": [
       "0         4\n",
       "1         2\n",
       "2         9\n",
       "3         0\n",
       "4         0\n",
       "         ..\n",
       "34282    21\n",
       "34283     4\n",
       "34284     4\n",
       "34285    17\n",
       "34286     6\n",
       "Name: total_fatalities, Length: 34287, dtype: int64"
      ]
     },
     "execution_count": 45,
     "metadata": {},
     "output_type": "execute_result"
    }
   ],
   "source": [
    "df['total_fatalities']"
   ]
  }
 ],
 "metadata": {
  "kernelspec": {
   "display_name": ".venv",
   "language": "python",
   "name": "python3"
  },
  "language_info": {
   "codemirror_mode": {
    "name": "ipython",
    "version": 3
   },
   "file_extension": ".py",
   "mimetype": "text/x-python",
   "name": "python",
   "nbconvert_exporter": "python",
   "pygments_lexer": "ipython3",
   "version": "3.11.4"
  }
 },
 "nbformat": 4,
 "nbformat_minor": 2
}
